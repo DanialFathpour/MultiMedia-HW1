{
 "cells": [
  {
   "cell_type": "code",
   "execution_count": 1,
   "metadata": {},
   "outputs": [],
   "source": [
    "import cv2\n",
    "import numpy as np\n",
    "import pyaudio\n",
    "import wave\n",
    "import threading\n",
    "import keyboard"
   ]
  },
  {
   "cell_type": "code",
   "execution_count": 2,
   "metadata": {},
   "outputs": [],
   "source": [
    "# Create a VideoCapture object to access the camera \n",
    "frame_index = 1\n",
    "cap = cv2.VideoCapture(0) #0 means webcam \n",
    "\n",
    "while True:\n",
    "    ret, frame = cap.read()\n",
    "    cv2.imshow(\"This is sepehr webcam\", frame)\n",
    "\n",
    "    #Press the \"c\" key to capture a frame\n",
    "    if cv2.waitKey(1) & 0xFF == ord(\"c\"):  \n",
    "        cv2.imwrite(f\"captured_frame.jpg\", frame)\n",
    "        break\n",
    "cap.release()\n",
    "cv2.destroyAllWindows()"
   ]
  },
  {
   "cell_type": "code",
   "execution_count": 3,
   "metadata": {},
   "outputs": [],
   "source": [
    "# Set the audio recording parameters\n",
    "CHUNK = 1024\n",
    "FORMAT = pyaudio.paInt16\n",
    "CHANNELS = 1\n",
    "RATE = 44100\n",
    "RECORD_SECONDS = 30\n",
    "class AudioRecorder:\n",
    "    def __init__(self):\n",
    "        self.frames = []\n",
    "        self.recording = False\n",
    "\n",
    "    def start_recording(self):\n",
    "        self.recording = True\n",
    "        self.frames = []\n",
    "        threading.Thread(target=self._record_audio).start()\n",
    "\n",
    "    def stop_recording(self):\n",
    "        self.recording = False\n",
    "\n",
    "    def _record_audio(self):\n",
    "        p = pyaudio.PyAudio()\n",
    "        stream = p.open(format=FORMAT,\n",
    "                        channels=CHANNELS,\n",
    "                        rate=RATE,\n",
    "                        input=True,\n",
    "                        frames_per_buffer=CHUNK)\n",
    "        while self.recording:\n",
    "            data = stream.read(CHUNK)\n",
    "            self.frames.append(data)\n",
    "        stream.stop_stream()\n",
    "        stream.close()\n",
    "        p.terminate()\n",
    "\n",
    "    def save_recording(self, filename):\n",
    "        p = pyaudio.PyAudio()\n",
    "        stream = p.open(format=FORMAT,\n",
    "                        channels=CHANNELS,\n",
    "                        rate=RATE,\n",
    "                        output=True)\n",
    "        wf = wave.open(filename, 'wb')\n",
    "        wf.setnchannels(CHANNELS)\n",
    "        wf.setsampwidth(p.get_sample_size(FORMAT))\n",
    "        wf.setframerate(RATE)\n",
    "        wf.writeframes(b''.join(self.frames))\n",
    "        wf.close()\n",
    "        stream.stop_stream()\n",
    "        stream.close()\n",
    "        p.terminate()"
   ]
  },
  {
   "cell_type": "code",
   "execution_count": 4,
   "metadata": {},
   "outputs": [],
   "source": [
    "# Create an instance of the AudioRecorder class\n",
    "audio_recorder = AudioRecorder()\n",
    "keyboard.on_press_key('r', lambda _: audio_recorder.start_recording())\n",
    "\n",
    "# Stop recording and save the audio file\n",
    "keyboard.on_press_key('s', lambda _: audio_recorder.stop_recording())\n",
    "\n",
    "# Wait for the recording to complete\n",
    "keyboard.wait('esc')\n",
    "\n",
    "# Save the recorded audio as a file\n",
    "audio_recorder.save_recording(\"recorded_audio.wav\")"
   ]
  }
 ],
 "metadata": {
  "kernelspec": {
   "display_name": "Python 3",
   "language": "python",
   "name": "python3"
  },
  "language_info": {
   "codemirror_mode": {
    "name": "ipython",
    "version": 3
   },
   "file_extension": ".py",
   "mimetype": "text/x-python",
   "name": "python",
   "nbconvert_exporter": "python",
   "pygments_lexer": "ipython3",
   "version": "3.11.2"
  }
 },
 "nbformat": 4,
 "nbformat_minor": 2
}
