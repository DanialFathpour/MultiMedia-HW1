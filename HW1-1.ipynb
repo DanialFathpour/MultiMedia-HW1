{
 "cells": [
  {
   "cell_type": "code",
   "execution_count": 4,
   "metadata": {},
   "outputs": [],
   "source": [
    "# Importing necessary libraries\n",
    "import cv2  # OpenCV for image and video processing\n",
    "import numpy as np  # NumPy for numerical operations\n",
    "import pyaudio  # PyAudio for audio streaming\n",
    "import wave  # Wave to read and write WAV files\n",
    "import threading  # Threading for running tasks concurrently\n",
    "import keyboard  # Keyboard to listen to and control keyboard events\n",
    "# if the libraries are not included properly, try installing them by \"pip install <library name>\" command in vscode terminal"
   ]
  },
  {
   "cell_type": "code",
   "execution_count": 5,
   "metadata": {},
   "outputs": [
    {
     "name": "stdout",
     "output_type": "stream",
     "text": [
      "Frame captured and saved as 'captured_frame.jpg'\n"
     ]
    }
   ],
   "source": [
    "# Creating a VideoCapture object to access the camera\n",
    "cap = cv2.VideoCapture(0)  # 0 means webcam\n",
    "\n",
    "while True:\n",
    "    # Capture frame-by-frame\n",
    "    ret, frame = cap.read()\n",
    "\n",
    "    # If frame is read correctly, ret is True\n",
    "    if not ret:\n",
    "        print(\"Can't receive frame (stream end?). Exiting ...\")\n",
    "        break\n",
    "\n",
    "    # Display the resulting frame\n",
    "    cv2.imshow(\"This is your webcam\", frame)\n",
    "\n",
    "    # Press the \"c\" key to capture a frame\n",
    "    if cv2.waitKey(1) & 0xFF == ord(\"c\"):\n",
    "        # Save the captured frame to disk\n",
    "        cv2.imwrite(\"captured_frame.jpg\", frame)\n",
    "        print(\"Frame captured and saved as 'captured_frame.jpg'\")\n",
    "        break\n",
    "\n",
    "# When everything done, release the capture and destroy all windows\n",
    "cap.release()\n",
    "cv2.destroyAllWindows()\n"
   ]
  },
  {
   "cell_type": "code",
   "execution_count": 6,
   "metadata": {},
   "outputs": [
    {
     "name": "stdout",
     "output_type": "stream",
     "text": [
      "Recording...\n",
      "Recording finished\n",
      "The recording has been saved as 'output.wav'\n"
     ]
    }
   ],
   "source": [
    "# Configuring parameters\n",
    "duration = 30  # seconds\n",
    "chunk = 1024\n",
    "format = pyaudio.paInt16\n",
    "channels = 2\n",
    "sample_rate = 44100\n",
    "\n",
    "# Initialize PyAudio\n",
    "p = pyaudio.PyAudio()\n",
    "\n",
    "# Open stream\n",
    "stream = p.open(format=format,\n",
    "                channels=channels,\n",
    "                rate=sample_rate,\n",
    "                input=True,\n",
    "                frames_per_buffer=chunk)\n",
    "\n",
    "frames = []\n",
    "\n",
    "print(\"Recording...\")\n",
    "\n",
    "for i in range(0, int(sample_rate / chunk * duration)):\n",
    "    data = stream.read(chunk)\n",
    "    frames.append(data)\n",
    "\n",
    "print(\"Recording finished\")\n",
    "\n",
    "# Stop and close the stream\n",
    "stream.stop_stream()\n",
    "stream.close()\n",
    "p.terminate()\n",
    "\n",
    "# Save the recording\n",
    "wf = wave.open('output.wav', 'wb')\n",
    "wf.setnchannels(channels)\n",
    "wf.setsampwidth(p.get_sample_size(format))\n",
    "wf.setframerate(sample_rate)\n",
    "wf.writeframes(b''.join(frames))\n",
    "wf.close()\n",
    "\n",
    "print(\"The recording has been saved as 'output.wav'\")"
   ]
  }
 ],
 "metadata": {
  "kernelspec": {
   "display_name": "Python 3",
   "language": "python",
   "name": "python3"
  },
  "language_info": {
   "codemirror_mode": {
    "name": "ipython",
    "version": 3
   },
   "file_extension": ".py",
   "mimetype": "text/x-python",
   "name": "python",
   "nbconvert_exporter": "python",
   "pygments_lexer": "ipython3",
   "version": "3.11.2"
  }
 },
 "nbformat": 4,
 "nbformat_minor": 2
}
